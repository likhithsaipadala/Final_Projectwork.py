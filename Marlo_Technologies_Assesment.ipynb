{
  "nbformat": 4,
  "nbformat_minor": 0,
  "metadata": {
    "colab": {
      "provenance": [],
      "authorship_tag": "ABX9TyNQbaaxeSMBle54Dnnm9iWq",
      "include_colab_link": true
    },
    "kernelspec": {
      "name": "python3",
      "display_name": "Python 3"
    },
    "language_info": {
      "name": "python"
    }
  },
  "cells": [
    {
      "cell_type": "markdown",
      "metadata": {
        "id": "view-in-github",
        "colab_type": "text"
      },
      "source": [
        "<a href=\"https://colab.research.google.com/github/likhithsaipadala/Final_Projectwork.py/blob/main/Marlo_Technologies_Assesment.ipynb\" target=\"_parent\"><img src=\"https://colab.research.google.com/assets/colab-badge.svg\" alt=\"Open In Colab\"/></a>"
      ]
    },
    {
      "cell_type": "code",
      "execution_count": 2,
      "metadata": {
        "id": "aVf5sgrqojjH"
      },
      "outputs": [],
      "source": [
        "from flask import Flask, request, jsonify\n",
        "from werkzeug.utils import secure_filename\n",
        "import csv\n",
        "app = Flask(__name__)\n",
        "# Registration API\n",
        "@app.route('/register', methods=['POST'])\n",
        "def register():\n",
        "    data = request.get_json()\n",
        "    # validate request data\n",
        "    if not all(key in data for key in ['first_name', 'last_name', 'email', 'password']):\n",
        "        return jsonify({'error': 'Missing required fields'}), 400\n",
        "    # TODO: Add logic to create a new user with the provided information\n",
        "    return jsonify({'message': 'User registered successfully'})\n",
        "# Login API\n",
        "@app.route('/login', methods=['POST'])\n",
        "def login():\n",
        "    data = request.get_json()\n",
        "    # validate request data\n",
        "    if not all(key in data for key in ['email', 'password']):\n",
        "        return jsonify({'error': 'Missing required fields'}), 400\n",
        "    # TODO: Add logic to validate user login credentials and return an access token\n",
        "    return jsonify({'access_token': 'dummy_token'})\n",
        "# Product Upload API\n",
        "@app.route('/upload', methods=['POST'])\n",
        "def upload():\n",
        "    # check if the post request has the file part\n",
        "    if 'file' not in request.files:\n",
        "        return jsonify({'error': 'No file part in the request'}), 400\n",
        "    file = request.files['file']\n",
        "    # if user does not select file, browser also\n",
        "    # submit an empty part without filename\n",
        "    if file.filename == '':\n",
        "        return jsonify({'error': 'No file selected'}), 400\n",
        "    if file and allowed_file(file.filename):\n",
        "        filename = secure_filename(file.filename)\n",
        "        file.save(os.path.join(app.config['UPLOAD_FOLDER'], filename))\n",
        "        with open(os.path.join(app.config['UPLOAD_FOLDER'], filename)) as f:\n",
        "            reader = csv.DictReader(f)\n",
        "            # TODO: Add logic to save products from the CSV file to the database\n",
        "        return jsonify({'message': 'CSV file uploaded successfully'}), 200\n",
        "# Product Review API\n",
        "@app.route('/review', methods=['POST'])\n",
        "def review():\n",
        "    data = request.get_json()\n",
        "    # validate request data\n",
        "    if not all(key in data for key in ['product_id', 'rating', 'review']):\n",
        "        return jsonify({'error': 'Missing required fields'}), 400\n",
        "    # TODO: Add logic to save the product review to the database\n",
        "    return jsonify({'message': 'Product review saved successfully'})\n",
        "# Product view Pagination API\n",
        "@app.route('/products', methods=['GET'])\n",
        "def get_products():\n",
        "    # TODO: Add logic to get products from the database in a paginated and sorted way\n",
        "    return jsonify({'products': []})"
      ]
    }
  ]
}